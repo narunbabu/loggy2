{
 "cells": [
  {
   "cell_type": "code",
   "execution_count": 56,
   "metadata": {},
   "outputs": [],
   "source": [
    "%matplotlib inline\n",
    "import matplotlib.pyplot as plt\n",
    "\n",
    "import numpy as np\n",
    "import pandas as pd\n",
    "import scipy "
   ]
  },
  {
   "cell_type": "code",
   "execution_count": 57,
   "metadata": {},
   "outputs": [
    {
     "data": {
      "text/html": [
       "<div>\n",
       "<style scoped>\n",
       "    .dataframe tbody tr th:only-of-type {\n",
       "        vertical-align: middle;\n",
       "    }\n",
       "\n",
       "    .dataframe tbody tr th {\n",
       "        vertical-align: top;\n",
       "    }\n",
       "\n",
       "    .dataframe thead th {\n",
       "        text-align: right;\n",
       "    }\n",
       "</style>\n",
       "<table border=\"1\" class=\"dataframe\">\n",
       "  <thead>\n",
       "    <tr style=\"text-align: right;\">\n",
       "      <th></th>\n",
       "      <th>Books</th>\n",
       "      <th>no pages</th>\n",
       "    </tr>\n",
       "  </thead>\n",
       "  <tbody>\n",
       "    <tr>\n",
       "      <th>0</th>\n",
       "      <td>first</td>\n",
       "      <td>23</td>\n",
       "    </tr>\n",
       "    <tr>\n",
       "      <th>1</th>\n",
       "      <td>second</td>\n",
       "      <td>45</td>\n",
       "    </tr>\n",
       "  </tbody>\n",
       "</table>\n",
       "</div>"
      ],
      "text/plain": [
       "    Books  no pages\n",
       "0   first        23\n",
       "1  second        45"
      ]
     },
     "execution_count": 57,
     "metadata": {},
     "output_type": "execute_result"
    }
   ],
   "source": [
    "mytable=pd.DataFrame(\n",
    "{\n",
    "    'Books':['first','second'],\n",
    "    'no pages':[23,45]\n",
    "}\n",
    ")\n",
    "mytable\n"
   ]
  },
  {
   "cell_type": "code",
   "execution_count": 75,
   "metadata": {},
   "outputs": [
    {
     "data": {
      "text/plain": [
       "array([[<matplotlib.axes._subplots.AxesSubplot object at 0x000001F1498FBCF8>,\n",
       "        <matplotlib.axes._subplots.AxesSubplot object at 0x000001F149ABC588>],\n",
       "       [<matplotlib.axes._subplots.AxesSubplot object at 0x000001F149B23C18>,\n",
       "        <matplotlib.axes._subplots.AxesSubplot object at 0x000001F149B7B9E8>]], dtype=object)"
      ]
     },
     "execution_count": 75,
     "metadata": {},
     "output_type": "execute_result"
    },
    {
     "data": {
      "image/png": "[encoded data removed]",
      "text/plain": [
       "<matplotlib.figure.Figure at 0x1f1487e6d68>"
      ]
     },
     "metadata": {},
     "output_type": "display_data"
    }
   ],
   "source": [
    "a=np.arange(1,10,0.1)\n",
    "b=np.sin(a)\n",
    "# plt.plot(a,b,'-.')\n",
    "mytable=pd.DataFrame({'a':a,'b':b})\n",
    "\n",
    "mytable.to_csv('D:\\python_work\\mytable.csv')\n",
    "\n",
    "# mysecond=pd.read_csv('D:\\python_work\\mytable.txt',delim='/t')\n",
    "mysecond.hist()"
   ]
  },
  {
   "cell_type": "code",
   "execution_count": 24,
   "metadata": {},
   "outputs": [],
   "source": [
    "def sayhello():\n",
    "    \n",
    "    print('Hello how are you ')\n",
    "    \n",
    "# def max(a,b):\n",
    "    \n",
    "def returnmax(a,b):\n",
    "    if a>b:\n",
    "        return a\n",
    "    else:\n",
    "        return b\n",
    "\n"
   ]
  },
  {
   "cell_type": "code",
   "execution_count": 35,
   "metadata": {},
   "outputs": [],
   "source": [
    "def printmax(arr):\n",
    "    mymax=arr[0]\n",
    "    for i in range(1,len(arr)):\n",
    "        mymax = returnmax(mymax,arr[i])\n",
    "#     return mymax\n"
   ]
  },
  {
   "cell_type": "code",
   "execution_count": 36,
   "metadata": {},
   "outputs": [
    {
     "name": "stdout",
     "output_type": "stream",
     "text": [
      "Max  is  None\n"
     ]
    }
   ],
   "source": [
    "a=[1,4,200,3,6,70,34,5,2,38]\n",
    "b= printmax(a)\n",
    "print('Max  is ',b)"
   ]
  },
  {
   "cell_type": "code",
   "execution_count": 52,
   "metadata": {},
   "outputs": [],
   "source": [
    "a='arun,nalmara'\n",
    "a=34,b='wer'"
   ]
  },
  {
   "cell_type": "code",
   "execution_count": 54,
   "metadata": {},
   "outputs": [
    {
     "data": {
      "text/plain": [
       "(array(['__abs__', '__add__', '__and__', '__bool__', '__ceil__',\n",
       "        '__class__', '__delattr__', '__dir__', '__divmod__', '__doc__',\n",
       "        '__eq__', '__float__', '__floor__', '__floordiv__', '__format__',\n",
       "        '__ge__', '__getattribute__', '__getnewargs__', '__gt__',\n",
       "        '__hash__', '__index__', '__init__', '__init_subclass__', '__int__',\n",
       "        '__invert__', '__le__', '__lshift__', '__lt__', '__mod__',\n",
       "        '__mul__', '__ne__', '__neg__', '__new__', '__or__', '__pos__',\n",
       "        '__pow__', '__radd__', '__rand__', '__rdivmod__', '__reduce__',\n",
       "        '__reduce_ex__', '__repr__', '__rfloordiv__', '__rlshift__',\n",
       "        '__rmod__', '__rmul__', '__ror__', '__round__', '__rpow__',\n",
       "        '__rrshift__', '__rshift__', '__rsub__', '__rtruediv__', '__rxor__',\n",
       "        '__setattr__', '__sizeof__', '__str__', '__sub__',\n",
       "        '__subclasshook__', '__truediv__', '__trunc__', '__xor__',\n",
       "        'bit_length', 'conjugate', 'denominator', 'from_bytes', 'imag',\n",
       "        'numerator', 'real', 'to_bytes'], \n",
       "       dtype='<U17'),\n",
       " array(['__bool__', '__class__', '__delattr__', '__dir__', '__doc__',\n",
       "        '__eq__', '__format__', '__ge__', '__getattribute__', '__gt__',\n",
       "        '__hash__', '__init__', '__init_subclass__', '__le__', '__lt__',\n",
       "        '__ne__', '__new__', '__reduce__', '__reduce_ex__', '__repr__',\n",
       "        '__setattr__', '__sizeof__', '__str__', '__subclasshook__'], \n",
       "       dtype='<U17'))"
      ]
     },
     "execution_count": 54,
     "metadata": {},
     "output_type": "execute_result"
    }
   ],
   "source": [
    "np.array(dir(a)),np.array(dir(b))"
   ]
  }
 ],
 "metadata": {
  "kernelspec": {
   "display_name": "Python 3",
   "language": "python",
   "name": "python3"
  },
  "language_info": {
   "codemirror_mode": {
    "name": "ipython",
    "version": 3
   },
   "file_extension": ".py",
   "mimetype": "text/x-python",
   "name": "python",
   "nbconvert_exporter": "python",
   "pygments_lexer": "ipython3",
   "version": "3.6.1"
  }
 },
 "nbformat": 4,
 "nbformat_minor": 2
}
