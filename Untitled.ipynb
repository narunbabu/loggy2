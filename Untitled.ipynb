{
 "cells": [
  {
   "cell_type": "code",
   "execution_count": 1,
   "metadata": {
    "collapsed": true
   },
   "outputs": [],
   "source": [
    "import pandas as pd\n",
    "import numpy as np\n",
    "import lasio"
   ]
  },
  {
   "cell_type": "code",
   "execution_count": 2,
   "metadata": {
    "collapsed": true
   },
   "outputs": [],
   "source": [
    "folder=r'E:\\Data\\\\'\n",
    "\n",
    "file=folder+'W1.las'\n",
    "las=lasio.read(file)"
   ]
  },
  {
   "cell_type": "code",
   "execution_count": 2,
   "metadata": {},
   "outputs": [
    {
     "name": "stderr",
     "output_type": "stream",
     "text": [
      "419435855 INFO: MKL installed as part of numpy, importing that!\n"
     ]
    },
    {
     "data": {
      "text/plain": [
       "[]"
      ]
     },
     "execution_count": 2,
     "metadata": {},
     "output_type": "execute_result"
    }
   ],
   "source": [
    "import sys\n",
    "import os\n",
    "import json\n",
    "import glob\n",
    "from cx_Freeze import setup, Executable\n",
    "# from GUI.Meta import *\n",
    "\n",
    "from PyInstaller import log as logging \n",
    "from PyInstaller import compat\n",
    "from os import listdir\n",
    "\n",
    "mkldir = compat.base_prefix + \"/Lib/site-packages/numpy/core\" \n",
    "logger = logging.getLogger(__name__)\n",
    "logger.info(\"MKL installed as part of numpy, importing that!\")\n",
    "binaries = [(mkldir + \"/\" + mkl, '') for mkl in listdir(mkldir) if mkl.startswith('mkl_')] \n",
    "binaries"
   ]
  },
  {
   "cell_type": "code",
   "execution_count": 3,
   "metadata": {},
   "outputs": [
    {
     "data": {
      "text/plain": [
       "'D:\\\\adiarun\\\\Anaconda3/Lib/site-packages/numpy/core'"
      ]
     },
     "execution_count": 3,
     "metadata": {},
     "output_type": "execute_result"
    }
   ],
   "source": [
    "mkldir"
   ]
  },
  {
   "cell_type": "code",
   "execution_count": 24,
   "metadata": {},
   "outputs": [
    {
     "data": {
      "text/plain": [
       "{'Version': [HeaderItem(mnemonic=VERS, unit=, value=2.0, descr=CWLS LOG ASCII STANDARD - ...),\n",
       "  HeaderItem(mnemonic=WRAP, unit=, value=NO, descr=One line per depth step)],\n",
       " 'Well': [HeaderItem(mnemonic=STRT, unit=M, value=780.8288, descr=START DEPTH),\n",
       "  HeaderItem(mnemonic=STOP, unit=M, value=2638.8896, descr=STOP DEPTH),\n",
       "  HeaderItem(mnemonic=STEP, unit=M, value=0.1524, descr=STEP),\n",
       "  HeaderItem(mnemonic=NULL, unit=, value=-999.25, descr=NULL VALUE),\n",
       "  HeaderItem(mnemonic=COMP, unit=, value=, descr=COMPANY),\n",
       "  HeaderItem(mnemonic=WELL, unit=, value=W1, descr=WELL),\n",
       "  HeaderItem(mnemonic=FLD, unit=, value=, descr=FIELD),\n",
       "  HeaderItem(mnemonic=LOC, unit=, value=, descr=LOCATION),\n",
       "  HeaderItem(mnemonic=CTRY, unit=, value=, descr=COUNTRY),\n",
       "  HeaderItem(mnemonic=STAT, unit=, value=, descr=STATE),\n",
       "  HeaderItem(mnemonic=CNTY, unit=, value=, descr=COUNTY),\n",
       "  HeaderItem(mnemonic=SRVC, unit=, value=, descr=SERVICE COMPANY),\n",
       "  HeaderItem(mnemonic=DATE, unit=, value=, descr=DATE),\n",
       "  HeaderItem(mnemonic=API, unit=, value=, descr=API NUMBER),\n",
       "  HeaderItem(mnemonic=UWI, unit=, value=, descr=UNIQUE WELL ID)],\n",
       " 'Curves': [CurveItem(mnemonic=DEPTH, unit=M, value=, descr=, original_mnemonic=DEPTH, data.shape=(12193,)),\n",
       "  CurveItem(mnemonic=CALI, unit=IN, value=, descr=, original_mnemonic=CALI, data.shape=(12193,)),\n",
       "  CurveItem(mnemonic=DTC, unit=US/F, value=, descr=, original_mnemonic=DTC, data.shape=(12193,)),\n",
       "  CurveItem(mnemonic=DTS, unit=US/F, value=, descr=, original_mnemonic=DTS, data.shape=(12193,)),\n",
       "  CurveItem(mnemonic=GR, unit=GAPI, value=, descr=, original_mnemonic=GR, data.shape=(12193,)),\n",
       "  CurveItem(mnemonic=LLD, unit=OHMM, value=, descr=, original_mnemonic=LLD, data.shape=(12193,)),\n",
       "  CurveItem(mnemonic=LLS, unit=OHMM, value=, descr=, original_mnemonic=LLS, data.shape=(12193,)),\n",
       "  CurveItem(mnemonic=NPHI, unit=V/V, value=, descr=, original_mnemonic=NPHI, data.shape=(12193,)),\n",
       "  CurveItem(mnemonic=RHOB, unit=G/C3, value=, descr=, original_mnemonic=RHOB, data.shape=(12193,))],\n",
       " 'Parameter': [HeaderItem(mnemonic=PROJECT, unit=, value=, descr=),\n",
       "  HeaderItem(mnemonic=SET, unit=, value=WIRE, descr=)],\n",
       " 'Other': ''}"
      ]
     },
     "execution_count": 24,
     "metadata": {},
     "output_type": "execute_result"
    }
   ],
   "source": [
    "PythonPath = os.path.split(sys.executable)[0] #get python path\n",
    "\n",
    "os.environ['TCL_LIBRARY'] = os.path.join(PythonPath,\"tcl\",\"tcl8.6\")\n",
    "os.environ['TK_LIBRARY']  = os.path.join(PythonPath,\"tcl\",\"tk8.6\")\n",
    "\n",
    "mkl_files_json_file = glob.glob(os.path.join(PythonPath, \"conda-meta\",\"mkl-[!service]*.json\"))[0] #json files that has mkl files list (exclude the \"service\" file)\n",
    "with open(mkl_files_json_file) as file:\n",
    "    mkl_files_json_data = json.load(file)\n",
    "\n",
    "numpy_mkl_dlls = mkl_files_json_data[\"files\"] #get the list of files from the json data file\n",
    "\n",
    "np_dlls_fullpath = list(map(lambda currPath: os.path.join(PythonPath,currPath),numpy_mkl_dlls)) #get the full path of these files\n",
    "\n",
    "additional_mods = ['numpy.core._methods', 'numpy.lib.format']\n",
    "\n",
    "print(np_dlls_fullpath)\n",
    "includefiles = np_dlls_fullpath\n",
    "\n",
    "target = Executable(\"AutoWellSplicing.py\")\n",
    "\n",
    "setup(\n",
    "    name = \"My program\",\n",
    "    version = '1.0',\n",
    "    description = \"Program\",\n",
    "    options = {'build_exe': { 'includes': [\"sip\",\"re\",\"atexit\",\"threading\",\"time\",\"PyQt5\",\n",
    "    \"PyQt5.QtCore\",\"PyQt5.QtGui\",\"PyQt5.QtWidgets\",\"matplotlib.widgets\",\"pyqtgraph\",\"lasio\",\"\"\n",
    "    \"multiprocessing\",\"numpy.core._methods\", \"numpy.lib.format\",\"matplotlib.pyplot\"\n",
    "    ]}},\n",
    "    executables = [target])"
   ]
  },
  {
   "cell_type": "code",
   "execution_count": 19,
   "metadata": {
    "collapsed": true
   },
   "outputs": [],
   "source": [
    "las.header['Curves']\n",
    "# ['CALI']['mnemonic']\n",
    "np.save(folder+'log_params.npy',las.header['Curves'])"
   ]
  },
  {
   "cell_type": "code",
   "execution_count": null,
   "metadata": {
    "collapsed": true
   },
   "outputs": [],
   "source": [
    "las.add_curve('DEPT', depths, unit='m')"
   ]
  },
  {
   "cell_type": "code",
   "execution_count": 13,
   "metadata": {},
   "outputs": [
    {
     "data": {
      "text/plain": [
       "<lasio.las.LASFile at 0x85b5898>"
      ]
     },
     "execution_count": 13,
     "metadata": {},
     "output_type": "execute_result"
    }
   ],
   "source": [
    "las1 = lasio.LASFile()\n",
    "las1"
   ]
  },
  {
   "cell_type": "code",
   "execution_count": 15,
   "metadata": {
    "collapsed": true
   },
   "outputs": [],
   "source": [
    "file=folder+'W1.las'\n",
    "las=lasio.read(file)\n",
    "\n"
   ]
  },
  {
   "cell_type": "code",
   "execution_count": 20,
   "metadata": {},
   "outputs": [
    {
     "data": {
      "text/plain": [
       "[HeaderItem(mnemonic=STRT, unit=M, value=780.8288, descr=START DEPTH),\n",
       " HeaderItem(mnemonic=STOP, unit=M, value=2638.8896, descr=STOP DEPTH),\n",
       " HeaderItem(mnemonic=STEP, unit=M, value=0.1524, descr=STEP),\n",
       " HeaderItem(mnemonic=NULL, unit=, value=-999.25, descr=NULL VALUE),\n",
       " HeaderItem(mnemonic=COMP, unit=, value=, descr=COMPANY),\n",
       " HeaderItem(mnemonic=WELL, unit=, value=W1, descr=WELL),\n",
       " HeaderItem(mnemonic=FLD, unit=, value=, descr=FIELD),\n",
       " HeaderItem(mnemonic=LOC, unit=, value=, descr=LOCATION),\n",
       " HeaderItem(mnemonic=CTRY, unit=, value=, descr=COUNTRY),\n",
       " HeaderItem(mnemonic=STAT, unit=, value=, descr=STATE),\n",
       " HeaderItem(mnemonic=CNTY, unit=, value=, descr=COUNTY),\n",
       " HeaderItem(mnemonic=SRVC, unit=, value=, descr=SERVICE COMPANY),\n",
       " HeaderItem(mnemonic=DATE, unit=, value=, descr=DATE),\n",
       " HeaderItem(mnemonic=API, unit=, value=, descr=API NUMBER),\n",
       " HeaderItem(mnemonic=UWI, unit=, value=, descr=UNIQUE WELL ID)]"
      ]
     },
     "execution_count": 20,
     "metadata": {},
     "output_type": "execute_result"
    }
   ],
   "source": [
    "las.header['Curves'][0]\n",
    "las.header['Well']"
   ]
  },
  {
   "cell_type": "code",
   "execution_count": 23,
   "metadata": {},
   "outputs": [
    {
     "data": {
      "text/plain": [
       "[HeaderItem(mnemonic=STRT, unit=M, value=780.8288, descr=START DEPTH),\n",
       " HeaderItem(mnemonic=STOP, unit=M, value=2638.8896, descr=STOP DEPTH),\n",
       " HeaderItem(mnemonic=STEP, unit=M, value=0.1524, descr=STEP),\n",
       " HeaderItem(mnemonic=NULL, unit=, value=-999.25, descr=NULL VALUE),\n",
       " HeaderItem(mnemonic=COMP, unit=, value=, descr=COMPANY),\n",
       " HeaderItem(mnemonic=WELL, unit=, value=W1, descr=WELL),\n",
       " HeaderItem(mnemonic=FLD, unit=, value=, descr=FIELD),\n",
       " HeaderItem(mnemonic=LOC, unit=, value=, descr=LOCATION),\n",
       " HeaderItem(mnemonic=CTRY, unit=, value=, descr=COUNTRY),\n",
       " HeaderItem(mnemonic=STAT, unit=, value=, descr=STATE),\n",
       " HeaderItem(mnemonic=CNTY, unit=, value=, descr=COUNTY),\n",
       " HeaderItem(mnemonic=SRVC, unit=, value=, descr=SERVICE COMPANY),\n",
       " HeaderItem(mnemonic=DATE, unit=, value=, descr=DATE),\n",
       " HeaderItem(mnemonic=API, unit=, value=, descr=API NUMBER),\n",
       " HeaderItem(mnemonic=UWI, unit=, value=, descr=UNIQUE WELL ID)]"
      ]
     },
     "execution_count": 23,
     "metadata": {},
     "output_type": "execute_result"
    }
   ],
   "source": [
    "las.well"
   ]
  },
  {
   "cell_type": "code",
   "execution_count": null,
   "metadata": {
    "collapsed": true
   },
   "outputs": [],
   "source": [
    "las.well['NULL'] = lasio.HeaderItem('NULL', value=-999.25, descr='NULL VALUE')\n",
    "las.well['WELL'] = lasio.HeaderItem('WELL', value='W1', descr='WELL')"
   ]
  }
 ],
 "metadata": {
  "kernelspec": {
   "display_name": "Python 3",
   "language": "python",
   "name": "python3"
  },
  "language_info": {
   "codemirror_mode": {
    "name": "ipython",
    "version": 3
   },
   "file_extension": ".py",
   "mimetype": "text/x-python",
   "name": "python",
   "nbconvert_exporter": "python",
   "pygments_lexer": "ipython3",
   "version": "3.6.1"
  }
 },
 "nbformat": 4,
 "nbformat_minor": 2
}
