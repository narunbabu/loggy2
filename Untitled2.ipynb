{
 "cells": [
  {
   "cell_type": "code",
   "execution_count": 1,
   "metadata": {},
   "outputs": [],
   "source": [
    "folder='E:\\Data\\PLT-PSPT\\DLIS\\\\'\n",
    "file=folder+'AISH-044-01-103_S5R2_PLT-PSPT_FlowingStation@1755m_OnDepth_DLIS.dlis'"
   ]
  },
  {
   "cell_type": "code",
   "execution_count": 2,
   "metadata": {},
   "outputs": [],
   "source": [
    "import lasio"
   ]
  },
  {
   "cell_type": "code",
   "execution_count": 5,
   "metadata": {},
   "outputs": [
    {
     "name": "stderr",
     "output_type": "stream",
     "text": [
      "Header section Version regexp=~V was not found.\n",
      "Header section Well regexp=~W was not found.\n",
      "Header section Curves regexp=~C was not found.\n",
      "Header section Parameter regexp=~P was not found.\n",
      "Found nonstandard LAS section: ~¬ÄyĞ\u0000ÄyĞ\u0000ÄyĞ\u0000ÄyĞ\u0000ÄyĞ\u0000Â\n",
      "Found nonstandard LAS section: ~¬@�&ÉÄyĞ\u0000=}HêÄyĞ\u0000SL\u0003\u00008\u0000\u0000r\u0000\u0004200T6E¦°\u0000@ª¸[I(¯\u0000DÛpÖD\n",
      "Found nonstandard LAS section: ~ÚÄyĞ\u0000ÄyĞ\u0000ÄyĞ\u0000ÄyĞ\u0000ÄyĞ\u0000Â\n",
      "Found nonstandard LAS section: ~Ú@�\u0017FÄyĞ\u0000=\u0002€ÄyĞ\u0000y\u0002\u0000<\u0001\u0000r\u0000\u0004200T�ŒHµÍÀCº*ìI(¯\u0000DÛpÖD\n",
      "Found nonstandard LAS section: ~)ÄyĞ\u0000ÄyĞ\u0000ÄyĞ\u0000ÄyĞ\u0000ÄyĞ\u0000Â\n",
      "No data section (regexp='~A') found\n"
     ]
    }
   ],
   "source": [
    "las=lasio.read(file)"
   ]
  },
  {
   "cell_type": "code",
   "execution_count": 6,
   "metadata": {},
   "outputs": [
    {
     "data": {
      "text/plain": [
       "[]"
      ]
     },
     "execution_count": 6,
     "metadata": {},
     "output_type": "execute_result"
    }
   ],
   "source": [
    "las.keys()"
   ]
  }
 ],
 "metadata": {
  "kernelspec": {
   "display_name": "Python 3",
   "language": "python",
   "name": "python3"
  },
  "language_info": {
   "codemirror_mode": {
    "name": "ipython",
    "version": 3
   },
   "file_extension": ".py",
   "mimetype": "text/x-python",
   "name": "python",
   "nbconvert_exporter": "python",
   "pygments_lexer": "ipython3",
   "version": "3.7.0"
  }
 },
 "nbformat": 4,
 "nbformat_minor": 2
}
