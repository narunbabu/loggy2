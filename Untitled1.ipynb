{
 "cells": [
  {
   "cell_type": "code",
   "execution_count": 8,
   "metadata": {},
   "outputs": [],
   "source": [
    "import sys\n",
    "from LasTree import treeWidgetFrmDict,get_txtdict,write_txtdict\n",
    "\n",
    "import lasio\n",
    "from loggy_settings import well_folder, lwdVSwirelineFile, mnomonicsfile    \n",
    "import numpy as np\n",
    "from helper import *\n",
    "\n",
    "\n",
    "class LogCategorize():\n",
    "    def __init__(self,las,mnemonicsfile):\n",
    "        self.las=las   \n",
    "        self.mnemonicsfile=mnemonicsfile\n",
    "        self.base_categories=get_txtdict(self.mnemonicsfile,delimiter=' ')\n",
    "    def get_catePresent(self):\n",
    "        cate_present=[]\n",
    "        for key in self.treeview_dict:\n",
    "            if (len(self.treeview_dict[key])>0)&(key!='NA'):\n",
    "                cate_present.append(key)\n",
    "\n",
    "        return cate_present\n",
    "    def get_lasdepthrange(self):\n",
    "        dindx=find_depth_indx(self.las)\n",
    "        return (self.las[dindx][0],self.las[dindx][-1])\n",
    "    def get_curverange(self,key):\n",
    "        dindx=find_depth_indx(self.las)\n",
    "        data_indxs=~np.isnan(self.las[key])\n",
    "        return (self.las[dindx][data_indxs][0],self.las[dindx][data_indxs][-1])\n",
    "    def lasCategorize(self): \n",
    "        type_dict=get_txtdict(self.mnemonicsfile,delimiter=' ')\n",
    "        las_r_log_groups=list(self.las.keys())\n",
    "        self.treeview_dict={}            \n",
    "        for k in type_dict.keys(): self.treeview_dict[k]=[] \n",
    "        self.treeview_dict['NA']=[]\n",
    "        for key in las_r_log_groups:\n",
    "            found=False\n",
    "            for k in type_dict.keys():                 \n",
    "                if key in type_dict[k]:\n",
    "                    self.treeview_dict[k].append(key)\n",
    "                    found=True\n",
    "                    break\n",
    "            if not found:\n",
    "               self.treeview_dict['NA'].append(key)"
   ]
  },
  {
   "cell_type": "code",
   "execution_count": null,
   "metadata": {},
   "outputs": [],
   "source": [
    "files_w_path=well_folder+'W1_SUITE2_COMPOSITE.las'\n",
    "\n",
    "las=lasio.read(files_w_path)"
   ]
  },
  {
   "cell_type": "code",
   "execution_count": 10,
   "metadata": {},
   "outputs": [
    {
     "name": "stdout",
     "output_type": "stream",
     "text": [
      "{'BS': ['BIT'], 'CALI': ['CAL'], 'GR': ['GR'], 'LLD': [], 'LLS': [], 'MSFL': [], 'RHOB': ['ZDNC'], 'NPHI': ['CNCF'], 'DTC': ['DTC'], 'DTS': ['DTST'], 'VPVS': ['VPVS'], 'NA': ['DEPT', 'CHT', 'CNCFLS', 'CNCFSS', 'DT24', 'DTSD', 'DTXX', 'GRSL', 'K', 'KTH', 'M1R1', 'M1R2', 'M1R3', 'M1R6', 'M1R9', 'M1RX', 'M2R1', 'M2R2', 'M2R3', 'M2R6', 'M2R9', 'M2RX', 'MBVI', 'MCBW', 'MPHE', 'MPHS', 'MPRM', 'PE', 'POIS', 'RESH', 'RESV', 'RTHK', 'RTHU', 'RUK', 'SPD', 'TEN', 'TH', 'TTC', 'TTEN', 'TTS', 'U', 'ZCOR']}\n",
      "['BS', 'CALI', 'GR', 'RHOB', 'NPHI', 'DTC', 'DTS', 'VPVS']\n",
      "(1477.747, 3219.298)\n",
      "BIT: (1494.511, 3219.145)\n",
      "CAL: (1486.205, 3209.849)\n",
      "GR: (1478.661, 3202.305)\n",
      "ZDNC: (1546.327, 3209.849)\n",
      "CNCF: (1545.184, 3204.286)\n",
      "DTC: (1489.405, 3188.818)\n",
      "DTST: (1493.901, 3189.732)\n",
      "VPVS: (1550.518, 3188.056)\n"
     ]
    }
   ],
   "source": [
    "lc=LogCategorize(las,mnomonicsfile)\n",
    "lc.lasCategorize()\n",
    "print(lc.treeview_dict)\n",
    "print(lc.get_catePresent())\n",
    "print( lc.get_lasdepthrange())\n",
    "lcates=lc.get_catePresent()\n",
    "for l in lcates:\n",
    "    for key in lc.treeview_dict[l]:\n",
    "        print('{}: {}'.format(key, lc.get_curverange(key)))\n"
   ]
  },
  {
   "cell_type": "code",
   "execution_count": 5,
   "metadata": {},
   "outputs": [],
   "source": [
    "files_w_path=well_folder+'W1_SUITE2_COMPOSITE.las'\n",
    "\n",
    "las=lasio.read(files_w_path)\n",
    "dindx=find_depth_indx(las)\n",
    "key='CAL'\n",
    "data_indxs=~np.isnan(las[key])"
   ]
  },
  {
   "cell_type": "code",
   "execution_count": 12,
   "metadata": {},
   "outputs": [
    {
     "data": {
      "text/plain": [
       "array([[1429.9692,    6.    ],\n",
       "       [ 465.29  ,    0.    ],\n",
       "       [ 118.14  ,    0.    ],\n",
       "       [ 119.7864,    4.    ],\n",
       "       [ 499.872 ,    4.    ]])"
      ]
     },
     "execution_count": 12,
     "metadata": {},
     "output_type": "execute_result"
    }
   ],
   "source": [
    "j=np.array([[1429.9692  ,  6.    ],\n",
    " [ 465.29 ,     0.    ],\n",
    " [ 118.14   ,   0.    ],\n",
    " [ 119.7864  ,  4.    ],\n",
    " [ 499.872   ,  4.    ]])\n",
    "j"
   ]
  },
  {
   "cell_type": "code",
   "execution_count": 21,
   "metadata": {},
   "outputs": [
    {
     "data": {
      "text/plain": [
       "array([[2, 1],\n",
       "       [3, 2],\n",
       "       [1, 3],\n",
       "       [4, 4],\n",
       "       [0, 0]], dtype=int64)"
      ]
     },
     "execution_count": 21,
     "metadata": {},
     "output_type": "execute_result"
    }
   ],
   "source": [
    "indxs=np.argsort(j,axis=0)\n",
    "indxs"
   ]
  },
  {
   "cell_type": "code",
   "execution_count": 17,
   "metadata": {},
   "outputs": [
    {
     "data": {
      "text/plain": [
       "array([[[ 118.14  ,    0.    ],\n",
       "        [ 465.29  ,    0.    ]],\n",
       "\n",
       "       [[ 119.7864,    4.    ],\n",
       "        [ 118.14  ,    0.    ]],\n",
       "\n",
       "       [[ 465.29  ,    0.    ],\n",
       "        [ 119.7864,    4.    ]],\n",
       "\n",
       "       [[ 499.872 ,    4.    ],\n",
       "        [ 499.872 ,    4.    ]],\n",
       "\n",
       "       [[1429.9692,    6.    ],\n",
       "        [1429.9692,    6.    ]]])"
      ]
     },
     "execution_count": 17,
     "metadata": {},
     "output_type": "execute_result"
    }
   ],
   "source": [
    "j[indxs]"
   ]
  },
  {
   "cell_type": "code",
   "execution_count": null,
   "metadata": {},
   "outputs": [],
   "source": []
  }
 ],
 "metadata": {
  "kernelspec": {
   "display_name": "Python 3",
   "language": "python",
   "name": "python3"
  },
  "language_info": {
   "codemirror_mode": {
    "name": "ipython",
    "version": 3
   },
   "file_extension": ".py",
   "mimetype": "text/x-python",
   "name": "python",
   "nbconvert_exporter": "python",
   "pygments_lexer": "ipython3",
   "version": "3.7.0"
  }
 },
 "nbformat": 4,
 "nbformat_minor": 2
}
